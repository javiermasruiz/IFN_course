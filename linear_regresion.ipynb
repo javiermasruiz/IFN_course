{
 "cells": [
  {
   "attachments": {},
   "cell_type": "markdown",
   "metadata": {},
   "source": [
    "### Here are presented 4 examples of how apply Linear Fits to data, including the calculation of statistical errors\n",
    "\n",
    "This methods are used for the students of the course of Introduction to Nuclear Physics in order to analyse data taken from the experiments\n",
    "After a Gaussian Fit we know the elements we want to fit\n",
    "### Getting the calibration curve knowing the gamma energies from Cobalt-60 and Cesium-137\n",
    "$\\gamma$(Cs-137) = 661.66 keV, $\\gamma_{1}$(Co-60) = 1137.2 keV, $\\gamma_{2}$(Co-60) = 1332.5 keV\n",
    "\n",
    "Mean Channel: 1007.96, 1809.33, 2050.01\n",
    "|Canal|Energy(keV)|\n",
    "|----|----|\n",
    "| 1007.96 | 661.66 |\n",
    "| 1809.33 | 1137.2 |\n",
    "| 2050.01 | 1332.5 |"
   ]
  },
  {
   "attachments": {},
   "cell_type": "markdown",
   "metadata": {},
   "source": [
    "### 1. Linear Regresion using __numpy.polyfit__ function"
   ]
  },
  {
   "cell_type": "code",
   "execution_count": 1,
   "metadata": {},
   "outputs": [],
   "source": [
    "import numpy as np\n",
    "import matplotlib.pyplot as plt\n",
    "%matplotlib inline"
   ]
  },
  {
   "cell_type": "code",
   "execution_count": 2,
   "metadata": {},
   "outputs": [],
   "source": [
    "channel = np.array([1007.96, 1809.33, 2050.01])\n",
    "energy = np.array([661.66, 1137.2, 1332.5])"
   ]
  },
  {
   "cell_type": "code",
   "execution_count": 3,
   "metadata": {},
   "outputs": [
    {
     "name": "stdout",
     "output_type": "stream",
     "text": [
      "Slope: 0.63 +- 0.04\n",
      "Intercept: 19.87 +- 68.62\n"
     ]
    }
   ],
   "source": [
    "par, cov_matrix = np.polyfit(channel, energy, 1, cov=True)\n",
    "error = np.sqrt(np.diag(cov_matrix))\n",
    "\n",
    "print(f\"Slope: {par[0]:.2f} +- {error[0]:.2f}\")\n",
    "print(f\"Intercept: {par[1]:.2f} +- {error[1]:.2f}\")"
   ]
  },
  {
   "attachments": {},
   "cell_type": "markdown",
   "metadata": {},
   "source": [
    "El coeficiente de determinación $R^{2} = [Cor(Y,X)]^{2}$,     donde $Cor(Y,X)=\\frac{Cov(Y,X)}{\\sqrt(Cov(X,X)Cov(Y,Y))}$"
   ]
  },
  {
   "cell_type": "code",
   "execution_count": 10,
   "metadata": {},
   "outputs": [
    {
     "name": "stdout",
     "output_type": "stream",
     "text": [
      "R-squared: 0.9958\n"
     ]
    }
   ],
   "source": [
    "def r_squared(x,y):\n",
    "    return np.corrcoef(x,y)[1, 0]**2\n",
    "\n",
    "#cor_matrix = np.corrcoef(channel, energy)\n",
    "#print(cor_matrix[0,1].round(3))\n",
    "print(f\"R-squared: {r_squared(channel, energy):.4f}\")"
   ]
  },
  {
   "cell_type": "code",
   "execution_count": 8,
   "metadata": {},
   "outputs": [
    {
     "name": "stdout",
     "output_type": "stream",
     "text": [
      "Coefficient of Determination: 0.9958\n"
     ]
    }
   ],
   "source": [
    "from sklearn.metrics import r2_score \n",
    "R_square = r2_score(energy, channel * par[0] + par[1]) \n",
    "print('Coefficient of Determination:', R_square.round(4)) "
   ]
  },
  {
   "cell_type": "code",
   "execution_count": 11,
   "metadata": {},
   "outputs": [
    {
     "data": {
      "image/png": "[encoded data removed]",
      "text/plain": [
       "<Figure size 640x480 with 1 Axes>"
      ]
     },
     "metadata": {},
     "output_type": "display_data"
    }
   ],
   "source": [
    "x = np.linspace(channel.min(),channel.max(),1000)\n",
    "fig, ax = plt.subplots()\n",
    "ax.plot(channel, energy, c = 'b', marker=\"o\", ls=\"\")\n",
    "ax.plot(x, x * par[0] + par[1], c = 'r', ls=\"--\")\n",
    "ax.text(1000,1200,f\"$R^{2}=${R_square.round(4)}\")\n",
    "plt.ylabel(r'Energy (keV)')\n",
    "plt.xlabel(r'Channel')\n",
    "plt.title(r\"numpy polyfit\")\n",
    "plt.show()"
   ]
  },
  {
   "attachments": {},
   "cell_type": "markdown",
   "metadata": {},
   "source": [
    "### 2. Linear Regresion using __curve_fit__ from scipy"
   ]
  },
  {
   "cell_type": "code",
   "execution_count": 12,
   "metadata": {},
   "outputs": [],
   "source": [
    "from scipy.optimize import curve_fit"
   ]
  },
  {
   "cell_type": "code",
   "execution_count": 13,
   "metadata": {},
   "outputs": [],
   "source": [
    "# user defined function\n",
    "def model_f(x,m,n):\n",
    "    return m * x + n"
   ]
  },
  {
   "cell_type": "code",
   "execution_count": 14,
   "metadata": {},
   "outputs": [],
   "source": [
    "init_values = [1,1]\n",
    "params, cov_m = curve_fit(model_f, channel, energy, p0 = init_values)"
   ]
  },
  {
   "attachments": {},
   "cell_type": "markdown",
   "metadata": {},
   "source": [
    "Reportando las incertidumbres y el coeficiente de determinación"
   ]
  },
  {
   "cell_type": "code",
   "execution_count": 15,
   "metadata": {},
   "outputs": [
    {
     "name": "stdout",
     "output_type": "stream",
     "text": [
      "Slope: 0.63 +- 0.04\n",
      "Intercept: 19.87 +- 68.62\n"
     ]
    }
   ],
   "source": [
    "err = np.sqrt(np.diag(cov_m))\n",
    "\n",
    "print(f\"Slope: {par[0]:.2f} +- {err[0]:.2f}\")\n",
    "print(f\"Intercept: {par[1]:.2f} +- {err[1]:.2f}\")"
   ]
  },
  {
   "attachments": {},
   "cell_type": "markdown",
   "metadata": {},
   "source": [
    "El coeficiente de determinación $R^{2}$ se relaciona con los siguientes de términos de la siguente forma:  \n",
    "$R^{2} =1 - \\frac{SSE}{SST}$  \n",
    "donde:  \n",
    "* Sum of squared Residuals $SSE = (y_{i}-\\^y)^2$\n",
    "* Total sum of squared deviation $SST = (y_{i}-\\=y)^2$\n"
   ]
  },
  {
   "cell_type": "code",
   "execution_count": 22,
   "metadata": {},
   "outputs": [
    {
     "name": "stdout",
     "output_type": "stream",
     "text": [
      "SSE:  990.26 \n",
      "SST:  238102.23\n",
      "R_squared:  0.9958\n"
     ]
    }
   ],
   "source": [
    "energy_fit = channel * par[0] + par[1]\n",
    "sse = sum((energy - energy_fit) ** 2)\n",
    "sst = sum((energy - np.average(energy)) ** 2)\n",
    "#sst = len(energy) * np.var(energy)\n",
    "r_squared = 1 - sse/sst\n",
    "print(\"SSE: \", sse.round(2), \"\\nSST: \", sst.round(2))\n",
    "print(\"R_squared: \",r_squared.round(4))"
   ]
  },
  {
   "attachments": {},
   "cell_type": "markdown",
   "metadata": {},
   "source": [
    "Otro método para conocer $R^{2}$ es utilizando la función __linregress__ de scipy.stats"
   ]
  },
  {
   "cell_type": "code",
   "execution_count": 23,
   "metadata": {},
   "outputs": [
    {
     "name": "stdout",
     "output_type": "stream",
     "text": [
      "R-squared: 0.9958\n"
     ]
    }
   ],
   "source": [
    "from scipy.stats import linregress\n",
    "slope, intercept, r_value, p_value, std_err = linregress(channel, energy)\n",
    "print(f\"R-squared: {r_value ** 2:.4f}\")"
   ]
  },
  {
   "cell_type": "code",
   "execution_count": 25,
   "metadata": {},
   "outputs": [
    {
     "data": {
      "image/png": "[encoded data removed]",
      "text/plain": [
       "<Figure size 640x480 with 1 Axes>"
      ]
     },
     "metadata": {},
     "output_type": "display_data"
    }
   ],
   "source": [
    "x = np.linspace(channel.min(),channel.max(),1000)\n",
    "\n",
    "plt.plot(channel, energy,c='b', marker='o',ls=\"\")\n",
    "plt.plot(x, x * par[0] + par[1], 'r--')\n",
    "plt.ylabel(r'Energy (keV)')\n",
    "plt.xlabel(r'Channel')\n",
    "plt.title(r\"using curve_fit\")\n",
    "plt.show()"
   ]
  },
  {
   "attachments": {},
   "cell_type": "markdown",
   "metadata": {},
   "source": [
    "### 3. Linear Regresion using Machine learning (librería sklearn)"
   ]
  },
  {
   "cell_type": "code",
   "execution_count": 26,
   "metadata": {},
   "outputs": [],
   "source": [
    "from sklearn.metrics import mean_squared_error, r2_score\n",
    "from sklearn.linear_model import LinearRegression"
   ]
  },
  {
   "cell_type": "code",
   "execution_count": 27,
   "metadata": {},
   "outputs": [
    {
     "name": "stdout",
     "output_type": "stream",
     "text": [
      "intercepto (n): [19.86944909]\n",
      "pendiente (m): [[0.63109972]]\n",
      "R-squared (m): 0.9958\n"
     ]
    }
   ],
   "source": [
    "# Model\n",
    "model = LinearRegression()\n",
    "type(model)\n",
    "channel_train = channel.reshape(-1,1)\n",
    "energy_train = energy.reshape(-1,1)\n",
    "model.fit(channel_train, energy_train)\n",
    "\n",
    "# Print parameters\n",
    "print(f\"intercepto (n): {model.intercept_}\")\n",
    "print(f\"pendiente (m): {model.coef_}\")\n",
    "r_sq = r2_score(energy_train, channel_train * model.coef_ + model.intercept_)\n",
    "print(f\"R-squared (m): {r_sq:.4f}\")"
   ]
  },
  {
   "attachments": {},
   "cell_type": "markdown",
   "metadata": {},
   "source": [
    "#### Podemos concluir que cada método arroja el mismo resultado de los parámetros y sus errores calculado por diferentes vías."
   ]
  },
  {
   "attachments": {},
   "cell_type": "markdown",
   "metadata": {},
   "source": [
    "### 4. Otro método es utilizar la librería __statmodels__ OLS(Ordinary Least Squares)\n",
    "\n",
    "La bibliografía a esta librería se puede consultar [aquí](https://www.statsmodels.org/stable/index.html)\n",
    "\n",
    "** se necesitan al menos 8 coordenadas para que el modelo funcione correctamente"
   ]
  },
  {
   "cell_type": "code",
   "execution_count": 16,
   "metadata": {},
   "outputs": [],
   "source": [
    "import statsmodels.api as sm  # for load inner datasets and artificail data\n",
    "import statsmodels.formula.api as smf  # for datadrames"
   ]
  },
  {
   "attachments": {},
   "cell_type": "markdown",
   "metadata": {},
   "source": [
    "### As a bibliography was used the standards libraries and the following books\n",
    "+ Regression Analysis by Example, Wiley Series\n",
    "+ Practical Statistics for Data Scientist, O'Reilly"
   ]
  }
 ],
 "metadata": {
  "kernelspec": {
   "display_name": "base",
   "language": "python",
   "name": "python3"
  },
  "language_info": {
   "codemirror_mode": {
    "name": "ipython",
    "version": 3
   },
   "file_extension": ".py",
   "mimetype": "text/x-python",
   "name": "python",
   "nbconvert_exporter": "python",
   "pygments_lexer": "ipython3",
   "version": "3.10.9"
  },
  "orig_nbformat": 4,
  "vscode": {
   "interpreter": {
    "hash": "c946ff2a70e6c572324e4c34c58be02a3983b1dbc3852f1697ab19961f673a1a"
   }
  }
 },
 "nbformat": 4,
 "nbformat_minor": 2
}
